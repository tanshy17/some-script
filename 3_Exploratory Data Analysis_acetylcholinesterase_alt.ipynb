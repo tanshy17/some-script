{
 "cells": [
  {
   "cell_type": "markdown",
   "id": "0f9c0e1e",
   "metadata": {},
   "source": [
    "# read data"
   ]
  },
  {
   "cell_type": "code",
   "execution_count": 63,
   "id": "45abbd36",
   "metadata": {},
   "outputs": [],
   "source": [
    "import pandas as pd\n",
    "from scopy.ScoDruglikeness import PC_properties\n",
    "import matplotlib.pyplot as plt\n",
    "import numpy as np\n",
    "from rdkit import Chem\n",
    "import csv"
   ]
  },
  {
   "cell_type": "code",
   "execution_count": 64,
   "id": "42978a4d",
   "metadata": {
    "scrolled": true
   },
   "outputs": [
    {
     "data": {
      "text/html": [
       "<div>\n",
       "<style scoped>\n",
       "    .dataframe tbody tr th:only-of-type {\n",
       "        vertical-align: middle;\n",
       "    }\n",
       "\n",
       "    .dataframe tbody tr th {\n",
       "        vertical-align: top;\n",
       "    }\n",
       "\n",
       "    .dataframe thead th {\n",
       "        text-align: right;\n",
       "    }\n",
       "</style>\n",
       "<table border=\"1\" class=\"dataframe\">\n",
       "  <thead>\n",
       "    <tr style=\"text-align: right;\">\n",
       "      <th></th>\n",
       "      <th>smiles</th>\n",
       "      <th>transformer score</th>\n",
       "    </tr>\n",
       "  </thead>\n",
       "  <tbody>\n",
       "    <tr>\n",
       "      <th>0</th>\n",
       "      <td>CCOc1ccccc1-c1noc(C)n1</td>\n",
       "      <td>15.563509</td>\n",
       "    </tr>\n",
       "    <tr>\n",
       "      <th>1</th>\n",
       "      <td>CCCCCCCCCCOC1OC(COC(C)=O)C(OC(C)=O)C(OC(C)=O)C...</td>\n",
       "      <td>15.461985</td>\n",
       "    </tr>\n",
       "    <tr>\n",
       "      <th>2</th>\n",
       "      <td>CCC(/C=C(\\C#N)C(N)=C(C#N)C#N)CC</td>\n",
       "      <td>15.221239</td>\n",
       "    </tr>\n",
       "    <tr>\n",
       "      <th>3</th>\n",
       "      <td>CC12CCC(C)(CC1)C1C(=O)NNC(=O)C12</td>\n",
       "      <td>15.149906</td>\n",
       "    </tr>\n",
       "    <tr>\n",
       "      <th>4</th>\n",
       "      <td>COCC1OC(OC(C)(C)C2CCC3(C)C=C(C4CCC5C4(C)CC(O)C...</td>\n",
       "      <td>15.045589</td>\n",
       "    </tr>\n",
       "    <tr>\n",
       "      <th>...</th>\n",
       "      <td>...</td>\n",
       "      <td>...</td>\n",
       "    </tr>\n",
       "    <tr>\n",
       "      <th>239995</th>\n",
       "      <td>Cc1cccc(Cc2c(C)nc(C3CC3)nc2N2CCN(C(=O)N(C)C)CC...</td>\n",
       "      <td>6.097244</td>\n",
       "    </tr>\n",
       "    <tr>\n",
       "      <th>239996</th>\n",
       "      <td>COc1ccc(S(=O)(=O)N(Cc2csc(COc3cccc(C)c3)n2)CC(...</td>\n",
       "      <td>6.097240</td>\n",
       "    </tr>\n",
       "    <tr>\n",
       "      <th>239997</th>\n",
       "      <td>O=C(NC1CCCCC1)ON=C1c2ccccc2-c2ccccc21</td>\n",
       "      <td>6.097238</td>\n",
       "    </tr>\n",
       "    <tr>\n",
       "      <th>239998</th>\n",
       "      <td>NC(=O)c1ccnc(CC2COc3ccccc3C2)c1</td>\n",
       "      <td>6.097234</td>\n",
       "    </tr>\n",
       "    <tr>\n",
       "      <th>239999</th>\n",
       "      <td>CC(C)c1nccn1CCCNC(=O)c1ccc(-c2cc3ccccc3o2)nc1</td>\n",
       "      <td>6.097231</td>\n",
       "    </tr>\n",
       "  </tbody>\n",
       "</table>\n",
       "<p>240000 rows × 2 columns</p>\n",
       "</div>"
      ],
      "text/plain": [
       "                                                   smiles  transformer score\n",
       "0                                  CCOc1ccccc1-c1noc(C)n1          15.563509\n",
       "1       CCCCCCCCCCOC1OC(COC(C)=O)C(OC(C)=O)C(OC(C)=O)C...          15.461985\n",
       "2                         CCC(/C=C(\\C#N)C(N)=C(C#N)C#N)CC          15.221239\n",
       "3                        CC12CCC(C)(CC1)C1C(=O)NNC(=O)C12          15.149906\n",
       "4       COCC1OC(OC(C)(C)C2CCC3(C)C=C(C4CCC5C4(C)CC(O)C...          15.045589\n",
       "...                                                   ...                ...\n",
       "239995  Cc1cccc(Cc2c(C)nc(C3CC3)nc2N2CCN(C(=O)N(C)C)CC...           6.097244\n",
       "239996  COc1ccc(S(=O)(=O)N(Cc2csc(COc3cccc(C)c3)n2)CC(...           6.097240\n",
       "239997              O=C(NC1CCCCC1)ON=C1c2ccccc2-c2ccccc21           6.097238\n",
       "239998                    NC(=O)c1ccnc(CC2COc3ccccc3C2)c1           6.097234\n",
       "239999      CC(C)c1nccn1CCCNC(=O)c1ccc(-c2cc3ccccc3o2)nc1           6.097231\n",
       "\n",
       "[240000 rows x 2 columns]"
      ]
     },
     "execution_count": 64,
     "metadata": {},
     "output_type": "execute_result"
    }
   ],
   "source": [
    "data = pd.read_csv('/mnt/d/CDK46/CDK12-VS/cdk12_vs_score.csv')\n",
    "data"
   ]
  },
  {
   "cell_type": "code",
   "execution_count": 65,
   "id": "231a82be",
   "metadata": {},
   "outputs": [],
   "source": [
    "data['mol'] = data['smiles'].apply(Chem.MolFromSmiles)"
   ]
  },
  {
   "cell_type": "code",
   "execution_count": 66,
   "id": "f66c1d49",
   "metadata": {},
   "outputs": [],
   "source": [
    "props = PC_properties(data['mol'], n_jobs=4)\n",
    "properties = props.GetProperties(items=['MW','logP','logD','nHD', 'nHA', 'TPSA','nRot'])\n",
    "properties_df = pd.DataFrame(properties)\n",
    "data_new = pd.concat([data, properties_df], axis=1)"
   ]
  },
  {
   "cell_type": "code",
   "execution_count": 67,
   "id": "cc084b73",
   "metadata": {},
   "outputs": [],
   "source": [
    "data_new.to_csv(\"data_pro-pred.csv\")"
   ]
  },
  {
   "cell_type": "code",
   "execution_count": 38,
   "id": "7484cd31",
   "metadata": {},
   "outputs": [],
   "source": [
    "def plot_mw_logP_tpsa(data):\n",
    "    fig, axes = plt.subplots(nrows=1, ncols=3)\n",
    "    min_ = min(data['MW'])-10\n",
    "    max_ = max(data['MW']) +10\n",
    "    index = np.arange(min_, max_, (max_ - min_)/20)\n",
    "    data['MW'].plot(kind='hist', bins=index, rwidth=0.8, ax=axes[0], title='MW')\n",
    "    plt.xticks(index)\n",
    "\n",
    "    min_ = min(data['logP'])-0.5\n",
    "    max_ = max(data['logP']) + 0.5\n",
    "    index = np.arange(min_, max_, (max_ - min_)/20)\n",
    "    data['logP'].plot(kind='hist', bins=index, rwidth=0.8, ax=axes[1], title='cLogP')\n",
    "    plt.xticks(index)\n",
    "   \n",
    "    min_ = min(data['TPSA'])-5\n",
    "    max_ = max(data['TPSA'])+5\n",
    "    index=np.arange(min_, max_, int((max_ - min_)/20))\n",
    "    data['TPSA'].plot(kind='hist', bins=index, rwidth=0.8, ax=axes[2], title='TPSA')\n",
    "    plt.xticks([0, 100, 200])\n",
    "\n",
    "    plt.show()\n"
   ]
  },
  {
   "cell_type": "code",
   "execution_count": 39,
   "id": "15fd9d8a",
   "metadata": {},
   "outputs": [
    {
     "data": {
      "image/png": "[encoded data removed]",
      "text/plain": [
       "<Figure size 432x288 with 3 Axes>"
      ]
     },
     "metadata": {
      "needs_background": "light"
     },
     "output_type": "display_data"
    }
   ],
   "source": [
    "plot_mw_logP_tpsa(data_new)"
   ]
  },
  {
   "cell_type": "code",
   "execution_count": 8,
   "id": "1211b62f",
   "metadata": {},
   "outputs": [],
   "source": [
    "def plot_nrot_hbond(data):\n",
    "    fig, axes = plt.subplots(nrows=1, ncols=3)\n",
    "\n",
    "    min_ = min(data['nRot'])\n",
    "    max_ = max(data['nRot']) + 2\n",
    "    index = np.arange(min_, max_, (max_ - min_)/10)\n",
    "    data['nRot'].plot(kind='hist', bins=index, rwidth=0.8, ax=axes[0], title='n-Rot')\n",
    "    plt.xticks(index)\n",
    "    \n",
    "    \n",
    "    min_ = min(data['nHA'])\n",
    "    max_ = max(data['nHA']) + 2\n",
    "    index = np.arange(min_, max_, (max_ - min_)/10)\n",
    "    data['nHA'].plot(kind='hist', bins=index, rwidth=0.8, ax=axes[1], title='H-Acc')\n",
    "    plt.xticks(index)\n",
    "\n",
    "\n",
    "    min_ = min(data['nHD'])\n",
    "    max_ = max(data['nHD']) + 2\n",
    "    index=np.arange(min_, max_, (max_ - min_)/6)\n",
    "    data['nHD'].plot(kind='hist', bins=index, rwidth=0.8, ax=axes[2], title='H-Don')\n",
    "    plt.xticks(index)\n",
    "    plt.show()\n",
    "\n"
   ]
  },
  {
   "cell_type": "code",
   "execution_count": 9,
   "id": "201fe9c9",
   "metadata": {},
   "outputs": [
    {
     "data": {
      "image/png": "[encoded data removed]",
      "text/plain": [
       "<Figure size 432x288 with 3 Axes>"
      ]
     },
     "metadata": {
      "needs_background": "light"
     },
     "output_type": "display_data"
    }
   ],
   "source": [
    "plot_nrot_hbond(data_new)"
   ]
  },
  {
   "cell_type": "code",
   "execution_count": null,
   "id": "ca54b12b",
   "metadata": {},
   "outputs": [],
   "source": []
  },
  {
   "cell_type": "code",
   "execution_count": null,
   "id": "9f1231b5",
   "metadata": {},
   "outputs": [],
   "source": []
  },
  {
   "cell_type": "code",
   "execution_count": null,
   "id": "eb8d4033",
   "metadata": {},
   "outputs": [],
   "source": []
  },
  {
   "cell_type": "code",
   "execution_count": null,
   "id": "91da4adb",
   "metadata": {},
   "outputs": [],
   "source": []
  },
  {
   "cell_type": "code",
   "execution_count": null,
   "id": "79e6be59",
   "metadata": {},
   "outputs": [],
   "source": []
  }
 ],
 "metadata": {
  "kernelspec": {
   "display_name": "Python 3",
   "language": "python",
   "name": "python3"
  },
  "language_info": {
   "codemirror_mode": {
    "name": "ipython",
    "version": 3
   },
   "file_extension": ".py",
   "mimetype": "text/x-python",
   "name": "python",
   "nbconvert_exporter": "python",
   "pygments_lexer": "ipython3",
   "version": "3.6.13"
  }
 },
 "nbformat": 4,
 "nbformat_minor": 5
}
